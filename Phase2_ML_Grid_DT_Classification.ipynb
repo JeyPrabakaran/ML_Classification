{
 "cells": [
  {
   "cell_type": "code",
   "execution_count": 1,
   "id": "1cbbfe15-7884-45ad-a3ea-36fc5061c124",
   "metadata": {},
   "outputs": [],
   "source": [
    "import pickle"
   ]
  },
  {
   "cell_type": "code",
   "execution_count": 4,
   "id": "8d53ecb1-6d3c-4168-880f-930b1c74fe3b",
   "metadata": {},
   "outputs": [
    {
     "name": "stdout",
     "output_type": "stream",
     "text": [
      "[1]\n"
     ]
    }
   ],
   "source": [
    "loaded_model=pickle.load(open('finalized_model_ML_Grid_DT_Classification.sav','rb'))\n",
    "result=loaded_model.predict([[50,20000,False]]) \n",
    "print(result)"
   ]
  },
  {
   "cell_type": "code",
   "execution_count": null,
   "id": "de04bfc7-4f49-4632-b119-4fc6c4ab3b1b",
   "metadata": {},
   "outputs": [],
   "source": []
  }
 ],
 "metadata": {
  "kernelspec": {
   "display_name": "Python 3 (ipykernel)",
   "language": "python",
   "name": "python3"
  },
  "language_info": {
   "codemirror_mode": {
    "name": "ipython",
    "version": 3
   },
   "file_extension": ".py",
   "mimetype": "text/x-python",
   "name": "python",
   "nbconvert_exporter": "python",
   "pygments_lexer": "ipython3",
   "version": "3.11.7"
  }
 },
 "nbformat": 4,
 "nbformat_minor": 5
}
