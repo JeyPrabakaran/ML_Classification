{
 "cells": [
  {
   "cell_type": "code",
   "execution_count": 3,
   "id": "336f970a-8d48-496d-978c-7c07e1388173",
   "metadata": {},
   "outputs": [],
   "source": [
    "import pickle\n",
    "import warnings as warn"
   ]
  },
  {
   "cell_type": "code",
   "execution_count": 5,
   "id": "44ce1231-13c0-4ee2-97c2-0e18897cd9b0",
   "metadata": {},
   "outputs": [
    {
     "name": "stdout",
     "output_type": "stream",
     "text": [
      "[1]\n"
     ]
    }
   ],
   "source": [
    "loaded_model=pickle.load(open('finalized_model_ML_Grid_RF_Classification.sav','rb'))\n",
    "result=loaded_model.predict([[50,20000,False]])\n",
    "#result=loaded_model.predict([[X_train]])\n",
    "print(result)\n",
    "warn.filterwarnings('ignore')"
   ]
  },
  {
   "cell_type": "code",
   "execution_count": null,
   "id": "685caccc-918c-4d2e-b821-76e4db74625d",
   "metadata": {},
   "outputs": [],
   "source": []
  }
 ],
 "metadata": {
  "kernelspec": {
   "display_name": "Python 3 (ipykernel)",
   "language": "python",
   "name": "python3"
  },
  "language_info": {
   "codemirror_mode": {
    "name": "ipython",
    "version": 3
   },
   "file_extension": ".py",
   "mimetype": "text/x-python",
   "name": "python",
   "nbconvert_exporter": "python",
   "pygments_lexer": "ipython3",
   "version": "3.11.7"
  }
 },
 "nbformat": 4,
 "nbformat_minor": 5
}
