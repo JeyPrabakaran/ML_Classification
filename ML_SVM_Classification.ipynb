{
 "cells": [
  {
   "cell_type": "code",
   "execution_count": 1,
   "id": "520416eb",
   "metadata": {},
   "outputs": [],
   "source": [
    "#importing the Libraies\n",
    "import numpy as np\n",
    "import matplotlib.pyplot as plt\n",
    "import pandas as pd"
   ]
  },
  {
   "cell_type": "code",
   "execution_count": 2,
   "id": "d3825f54",
   "metadata": {},
   "outputs": [
    {
     "data": {
      "text/html": [
       "<div>\n",
       "<style scoped>\n",
       "    .dataframe tbody tr th:only-of-type {\n",
       "        vertical-align: middle;\n",
       "    }\n",
       "\n",
       "    .dataframe tbody tr th {\n",
       "        vertical-align: top;\n",
       "    }\n",
       "\n",
       "    .dataframe thead th {\n",
       "        text-align: right;\n",
       "    }\n",
       "</style>\n",
       "<table border=\"1\" class=\"dataframe\">\n",
       "  <thead>\n",
       "    <tr style=\"text-align: right;\">\n",
       "      <th></th>\n",
       "      <th>User ID</th>\n",
       "      <th>Gender</th>\n",
       "      <th>Age</th>\n",
       "      <th>EstimatedSalary</th>\n",
       "      <th>Purchased</th>\n",
       "    </tr>\n",
       "  </thead>\n",
       "  <tbody>\n",
       "    <tr>\n",
       "      <th>0</th>\n",
       "      <td>15624510</td>\n",
       "      <td>Male</td>\n",
       "      <td>19</td>\n",
       "      <td>19000</td>\n",
       "      <td>0</td>\n",
       "    </tr>\n",
       "    <tr>\n",
       "      <th>1</th>\n",
       "      <td>15810944</td>\n",
       "      <td>Male</td>\n",
       "      <td>35</td>\n",
       "      <td>20000</td>\n",
       "      <td>0</td>\n",
       "    </tr>\n",
       "    <tr>\n",
       "      <th>2</th>\n",
       "      <td>15668575</td>\n",
       "      <td>Female</td>\n",
       "      <td>26</td>\n",
       "      <td>43000</td>\n",
       "      <td>0</td>\n",
       "    </tr>\n",
       "    <tr>\n",
       "      <th>3</th>\n",
       "      <td>15603246</td>\n",
       "      <td>Female</td>\n",
       "      <td>27</td>\n",
       "      <td>57000</td>\n",
       "      <td>0</td>\n",
       "    </tr>\n",
       "    <tr>\n",
       "      <th>4</th>\n",
       "      <td>15804002</td>\n",
       "      <td>Male</td>\n",
       "      <td>19</td>\n",
       "      <td>76000</td>\n",
       "      <td>0</td>\n",
       "    </tr>\n",
       "    <tr>\n",
       "      <th>...</th>\n",
       "      <td>...</td>\n",
       "      <td>...</td>\n",
       "      <td>...</td>\n",
       "      <td>...</td>\n",
       "      <td>...</td>\n",
       "    </tr>\n",
       "    <tr>\n",
       "      <th>395</th>\n",
       "      <td>15691863</td>\n",
       "      <td>Female</td>\n",
       "      <td>46</td>\n",
       "      <td>41000</td>\n",
       "      <td>1</td>\n",
       "    </tr>\n",
       "    <tr>\n",
       "      <th>396</th>\n",
       "      <td>15706071</td>\n",
       "      <td>Male</td>\n",
       "      <td>51</td>\n",
       "      <td>23000</td>\n",
       "      <td>1</td>\n",
       "    </tr>\n",
       "    <tr>\n",
       "      <th>397</th>\n",
       "      <td>15654296</td>\n",
       "      <td>Female</td>\n",
       "      <td>50</td>\n",
       "      <td>20000</td>\n",
       "      <td>1</td>\n",
       "    </tr>\n",
       "    <tr>\n",
       "      <th>398</th>\n",
       "      <td>15755018</td>\n",
       "      <td>Male</td>\n",
       "      <td>36</td>\n",
       "      <td>33000</td>\n",
       "      <td>0</td>\n",
       "    </tr>\n",
       "    <tr>\n",
       "      <th>399</th>\n",
       "      <td>15594041</td>\n",
       "      <td>Female</td>\n",
       "      <td>49</td>\n",
       "      <td>36000</td>\n",
       "      <td>1</td>\n",
       "    </tr>\n",
       "  </tbody>\n",
       "</table>\n",
       "<p>400 rows × 5 columns</p>\n",
       "</div>"
      ],
      "text/plain": [
       "      User ID  Gender  Age  EstimatedSalary  Purchased\n",
       "0    15624510    Male   19            19000          0\n",
       "1    15810944    Male   35            20000          0\n",
       "2    15668575  Female   26            43000          0\n",
       "3    15603246  Female   27            57000          0\n",
       "4    15804002    Male   19            76000          0\n",
       "..        ...     ...  ...              ...        ...\n",
       "395  15691863  Female   46            41000          1\n",
       "396  15706071    Male   51            23000          1\n",
       "397  15654296  Female   50            20000          1\n",
       "398  15755018    Male   36            33000          0\n",
       "399  15594041  Female   49            36000          1\n",
       "\n",
       "[400 rows x 5 columns]"
      ]
     },
     "execution_count": 2,
     "metadata": {},
     "output_type": "execute_result"
    }
   ],
   "source": [
    "dataset=pd.read_csv(\"Social_Network_Ads.csv\")\n",
    "dataset"
   ]
  },
  {
   "cell_type": "code",
   "execution_count": 3,
   "id": "d5f0e989",
   "metadata": {},
   "outputs": [
    {
     "data": {
      "text/html": [
       "<div>\n",
       "<style scoped>\n",
       "    .dataframe tbody tr th:only-of-type {\n",
       "        vertical-align: middle;\n",
       "    }\n",
       "\n",
       "    .dataframe tbody tr th {\n",
       "        vertical-align: top;\n",
       "    }\n",
       "\n",
       "    .dataframe thead th {\n",
       "        text-align: right;\n",
       "    }\n",
       "</style>\n",
       "<table border=\"1\" class=\"dataframe\">\n",
       "  <thead>\n",
       "    <tr style=\"text-align: right;\">\n",
       "      <th></th>\n",
       "      <th>User ID</th>\n",
       "      <th>Age</th>\n",
       "      <th>EstimatedSalary</th>\n",
       "      <th>Purchased</th>\n",
       "      <th>Gender_Male</th>\n",
       "    </tr>\n",
       "  </thead>\n",
       "  <tbody>\n",
       "    <tr>\n",
       "      <th>0</th>\n",
       "      <td>15624510</td>\n",
       "      <td>19</td>\n",
       "      <td>19000</td>\n",
       "      <td>0</td>\n",
       "      <td>True</td>\n",
       "    </tr>\n",
       "    <tr>\n",
       "      <th>1</th>\n",
       "      <td>15810944</td>\n",
       "      <td>35</td>\n",
       "      <td>20000</td>\n",
       "      <td>0</td>\n",
       "      <td>True</td>\n",
       "    </tr>\n",
       "    <tr>\n",
       "      <th>2</th>\n",
       "      <td>15668575</td>\n",
       "      <td>26</td>\n",
       "      <td>43000</td>\n",
       "      <td>0</td>\n",
       "      <td>False</td>\n",
       "    </tr>\n",
       "    <tr>\n",
       "      <th>3</th>\n",
       "      <td>15603246</td>\n",
       "      <td>27</td>\n",
       "      <td>57000</td>\n",
       "      <td>0</td>\n",
       "      <td>False</td>\n",
       "    </tr>\n",
       "    <tr>\n",
       "      <th>4</th>\n",
       "      <td>15804002</td>\n",
       "      <td>19</td>\n",
       "      <td>76000</td>\n",
       "      <td>0</td>\n",
       "      <td>True</td>\n",
       "    </tr>\n",
       "    <tr>\n",
       "      <th>...</th>\n",
       "      <td>...</td>\n",
       "      <td>...</td>\n",
       "      <td>...</td>\n",
       "      <td>...</td>\n",
       "      <td>...</td>\n",
       "    </tr>\n",
       "    <tr>\n",
       "      <th>395</th>\n",
       "      <td>15691863</td>\n",
       "      <td>46</td>\n",
       "      <td>41000</td>\n",
       "      <td>1</td>\n",
       "      <td>False</td>\n",
       "    </tr>\n",
       "    <tr>\n",
       "      <th>396</th>\n",
       "      <td>15706071</td>\n",
       "      <td>51</td>\n",
       "      <td>23000</td>\n",
       "      <td>1</td>\n",
       "      <td>True</td>\n",
       "    </tr>\n",
       "    <tr>\n",
       "      <th>397</th>\n",
       "      <td>15654296</td>\n",
       "      <td>50</td>\n",
       "      <td>20000</td>\n",
       "      <td>1</td>\n",
       "      <td>False</td>\n",
       "    </tr>\n",
       "    <tr>\n",
       "      <th>398</th>\n",
       "      <td>15755018</td>\n",
       "      <td>36</td>\n",
       "      <td>33000</td>\n",
       "      <td>0</td>\n",
       "      <td>True</td>\n",
       "    </tr>\n",
       "    <tr>\n",
       "      <th>399</th>\n",
       "      <td>15594041</td>\n",
       "      <td>49</td>\n",
       "      <td>36000</td>\n",
       "      <td>1</td>\n",
       "      <td>False</td>\n",
       "    </tr>\n",
       "  </tbody>\n",
       "</table>\n",
       "<p>400 rows × 5 columns</p>\n",
       "</div>"
      ],
      "text/plain": [
       "      User ID  Age  EstimatedSalary  Purchased  Gender_Male\n",
       "0    15624510   19            19000          0         True\n",
       "1    15810944   35            20000          0         True\n",
       "2    15668575   26            43000          0        False\n",
       "3    15603246   27            57000          0        False\n",
       "4    15804002   19            76000          0         True\n",
       "..        ...  ...              ...        ...          ...\n",
       "395  15691863   46            41000          1        False\n",
       "396  15706071   51            23000          1         True\n",
       "397  15654296   50            20000          1        False\n",
       "398  15755018   36            33000          0         True\n",
       "399  15594041   49            36000          1        False\n",
       "\n",
       "[400 rows x 5 columns]"
      ]
     },
     "execution_count": 3,
     "metadata": {},
     "output_type": "execute_result"
    }
   ],
   "source": [
    "dataset=pd.get_dummies(dataset,drop_first=True)\n",
    "dataset"
   ]
  },
  {
   "cell_type": "code",
   "execution_count": 4,
   "id": "5f49d530",
   "metadata": {},
   "outputs": [
    {
     "data": {
      "text/html": [
       "<div>\n",
       "<style scoped>\n",
       "    .dataframe tbody tr th:only-of-type {\n",
       "        vertical-align: middle;\n",
       "    }\n",
       "\n",
       "    .dataframe tbody tr th {\n",
       "        vertical-align: top;\n",
       "    }\n",
       "\n",
       "    .dataframe thead th {\n",
       "        text-align: right;\n",
       "    }\n",
       "</style>\n",
       "<table border=\"1\" class=\"dataframe\">\n",
       "  <thead>\n",
       "    <tr style=\"text-align: right;\">\n",
       "      <th></th>\n",
       "      <th>Age</th>\n",
       "      <th>EstimatedSalary</th>\n",
       "      <th>Purchased</th>\n",
       "      <th>Gender_Male</th>\n",
       "    </tr>\n",
       "  </thead>\n",
       "  <tbody>\n",
       "    <tr>\n",
       "      <th>0</th>\n",
       "      <td>19</td>\n",
       "      <td>19000</td>\n",
       "      <td>0</td>\n",
       "      <td>True</td>\n",
       "    </tr>\n",
       "    <tr>\n",
       "      <th>1</th>\n",
       "      <td>35</td>\n",
       "      <td>20000</td>\n",
       "      <td>0</td>\n",
       "      <td>True</td>\n",
       "    </tr>\n",
       "    <tr>\n",
       "      <th>2</th>\n",
       "      <td>26</td>\n",
       "      <td>43000</td>\n",
       "      <td>0</td>\n",
       "      <td>False</td>\n",
       "    </tr>\n",
       "    <tr>\n",
       "      <th>3</th>\n",
       "      <td>27</td>\n",
       "      <td>57000</td>\n",
       "      <td>0</td>\n",
       "      <td>False</td>\n",
       "    </tr>\n",
       "    <tr>\n",
       "      <th>4</th>\n",
       "      <td>19</td>\n",
       "      <td>76000</td>\n",
       "      <td>0</td>\n",
       "      <td>True</td>\n",
       "    </tr>\n",
       "    <tr>\n",
       "      <th>...</th>\n",
       "      <td>...</td>\n",
       "      <td>...</td>\n",
       "      <td>...</td>\n",
       "      <td>...</td>\n",
       "    </tr>\n",
       "    <tr>\n",
       "      <th>395</th>\n",
       "      <td>46</td>\n",
       "      <td>41000</td>\n",
       "      <td>1</td>\n",
       "      <td>False</td>\n",
       "    </tr>\n",
       "    <tr>\n",
       "      <th>396</th>\n",
       "      <td>51</td>\n",
       "      <td>23000</td>\n",
       "      <td>1</td>\n",
       "      <td>True</td>\n",
       "    </tr>\n",
       "    <tr>\n",
       "      <th>397</th>\n",
       "      <td>50</td>\n",
       "      <td>20000</td>\n",
       "      <td>1</td>\n",
       "      <td>False</td>\n",
       "    </tr>\n",
       "    <tr>\n",
       "      <th>398</th>\n",
       "      <td>36</td>\n",
       "      <td>33000</td>\n",
       "      <td>0</td>\n",
       "      <td>True</td>\n",
       "    </tr>\n",
       "    <tr>\n",
       "      <th>399</th>\n",
       "      <td>49</td>\n",
       "      <td>36000</td>\n",
       "      <td>1</td>\n",
       "      <td>False</td>\n",
       "    </tr>\n",
       "  </tbody>\n",
       "</table>\n",
       "<p>400 rows × 4 columns</p>\n",
       "</div>"
      ],
      "text/plain": [
       "     Age  EstimatedSalary  Purchased  Gender_Male\n",
       "0     19            19000          0         True\n",
       "1     35            20000          0         True\n",
       "2     26            43000          0        False\n",
       "3     27            57000          0        False\n",
       "4     19            76000          0         True\n",
       "..   ...              ...        ...          ...\n",
       "395   46            41000          1        False\n",
       "396   51            23000          1         True\n",
       "397   50            20000          1        False\n",
       "398   36            33000          0         True\n",
       "399   49            36000          1        False\n",
       "\n",
       "[400 rows x 4 columns]"
      ]
     },
     "execution_count": 4,
     "metadata": {},
     "output_type": "execute_result"
    }
   ],
   "source": [
    "dataset=dataset.drop(\"User ID\",axis=1)\n",
    "dataset"
   ]
  },
  {
   "cell_type": "code",
   "execution_count": 5,
   "id": "5d1d7747",
   "metadata": {},
   "outputs": [
    {
     "data": {
      "text/plain": [
       "Purchased\n",
       "0    257\n",
       "1    143\n",
       "Name: count, dtype: int64"
      ]
     },
     "execution_count": 5,
     "metadata": {},
     "output_type": "execute_result"
    }
   ],
   "source": [
    "dataset[\"Purchased\"].value_counts()"
   ]
  },
  {
   "cell_type": "code",
   "execution_count": 6,
   "id": "6f125957",
   "metadata": {},
   "outputs": [],
   "source": [
    "indep=dataset[[\"Age\",\"EstimatedSalary\",\"Gender_Male\"]]\n",
    "dep=dataset[\"Purchased\"]"
   ]
  },
  {
   "cell_type": "code",
   "execution_count": 7,
   "id": "6990e823",
   "metadata": {},
   "outputs": [
    {
     "data": {
      "text/plain": [
       "(400, 3)"
      ]
     },
     "execution_count": 7,
     "metadata": {},
     "output_type": "execute_result"
    }
   ],
   "source": [
    "indep.shape"
   ]
  },
  {
   "cell_type": "code",
   "execution_count": 8,
   "id": "24251c28",
   "metadata": {},
   "outputs": [
    {
     "data": {
      "text/plain": [
       "0      0\n",
       "1      0\n",
       "2      0\n",
       "3      0\n",
       "4      0\n",
       "      ..\n",
       "395    1\n",
       "396    1\n",
       "397    1\n",
       "398    0\n",
       "399    1\n",
       "Name: Purchased, Length: 400, dtype: int64"
      ]
     },
     "execution_count": 8,
     "metadata": {},
     "output_type": "execute_result"
    }
   ],
   "source": [
    "dep"
   ]
  },
  {
   "cell_type": "code",
   "execution_count": 9,
   "id": "0baffcec",
   "metadata": {},
   "outputs": [],
   "source": [
    "#split into training set and test\n",
    "from sklearn.model_selection import train_test_split\n",
    "X_train, X_test, y_train, y_test = train_test_split(indep, dep, test_size = 1/3, random_state = 0)"
   ]
  },
  {
   "cell_type": "code",
   "execution_count": 31,
   "id": "67500f37",
   "metadata": {},
   "outputs": [],
   "source": [
    "from sklearn.svm import SVC\n",
    "classifier = SVC(kernel = 'rbf', random_state = 0,gamma='scale')\n",
    "classifier=classifier.fit(X_train, y_train)"
   ]
  },
  {
   "cell_type": "code",
   "execution_count": 32,
   "id": "b8b3b26a",
   "metadata": {},
   "outputs": [],
   "source": [
    "y_pred = classifier.predict(X_test)"
   ]
  },
  {
   "cell_type": "code",
   "execution_count": 33,
   "id": "6d3f131c",
   "metadata": {},
   "outputs": [],
   "source": [
    "from sklearn.metrics import confusion_matrix\n",
    "cm = confusion_matrix(y_test, y_pred)"
   ]
  },
  {
   "cell_type": "code",
   "execution_count": 34,
   "id": "397ed15c",
   "metadata": {},
   "outputs": [
    {
     "data": {
      "text/plain": [
       "array([[82,  3],\n",
       "       [26, 23]], dtype=int64)"
      ]
     },
     "execution_count": 34,
     "metadata": {},
     "output_type": "execute_result"
    }
   ],
   "source": [
    "cm\n"
   ]
  },
  {
   "cell_type": "code",
   "execution_count": 35,
   "id": "1bb213a5",
   "metadata": {},
   "outputs": [],
   "source": [
    "from sklearn.metrics import classification_report,accuracy_score\n",
    "clf_report = classification_report(y_test, y_pred)"
   ]
  },
  {
   "cell_type": "code",
   "execution_count": null,
   "id": "d68b3ace",
   "metadata": {},
   "outputs": [],
   "source": []
  },
  {
   "cell_type": "code",
   "execution_count": 36,
   "id": "152e7bfe",
   "metadata": {},
   "outputs": [
    {
     "name": "stdout",
     "output_type": "stream",
     "text": [
      "              precision    recall  f1-score   support\n",
      "\n",
      "           0       0.76      0.96      0.85        85\n",
      "           1       0.88      0.47      0.61        49\n",
      "\n",
      "    accuracy                           0.78       134\n",
      "   macro avg       0.82      0.72      0.73       134\n",
      "weighted avg       0.81      0.78      0.76       134\n",
      "\n"
     ]
    }
   ],
   "source": [
    "print(clf_report)\n",
    "#Accuracy: This indicates the overall correctness of the classifier's predictions, calculated as the ratio of correct predictions to the total number of predictions.\n",
    "#Precision: Precision is a measure of the accuracy of positive predictions made by the classifier. It is calculated as the ratio of true positive predictions to the total number of positive predictions (both true positives and false positives). Precision is often used when the cost of false positives is high.\n",
    "#Recall (or Sensitivity): Recall measures the completeness of the classifier's predictions. It is calculated as the ratio of true positive predictions to the total number of actual positive instances (true positives and false negatives). Recall is particularly important when it's crucial to capture all positive instances, even if it means also including false positives.\n",
    "#F1-score: The F1-score is the harmonic mean of precision and recall. It provides a single metric that balances both precision and recall. It is calculated as 2 * ((precision * recall) / (precision + recall)).\n",
    "#Confusion Matrix: A confusion matrix is a table that summarizes the performance of a classification algorithm. It compares the actual values of the target variable with the values predicted by the classifier. The matrix has rows corresponding to the actual classes and columns corresponding to the predicted classes. It provides insights into the number of true positives, false positives, true negatives, and false negatives.\n",
    "#support: In a classifier (clf) report, \"support\" refers to the number of actual occurrences of each class in the specified dataset.\n",
    "#Class 0: 82+3=85 Class 1: 26+23=49 Total Weighted support:85+49=134"
   ]
  },
  {
   "cell_type": "code",
   "execution_count": 42,
   "id": "d465caa1",
   "metadata": {},
   "outputs": [
    {
     "name": "stdout",
     "output_type": "stream",
     "text": [
      "Accuracy score is     :  0.7835820895522388\n",
      "F1 Score Not Purchased: 0.85\n",
      "F1 Score Purchased    : 0.61\n"
     ]
    }
   ],
   "source": [
    "accuracy=accuracy_score(y_test,y_pred)\n",
    "print(\"Accuracy score is     : \",accuracy) \n",
    "# Parse the classification report and extract the F1 score\n",
    "lines = clf_report.split('\\n')\n",
    "f1_score_line = lines[2]  # Assuming F1-score is in the 5th line\n",
    "f1_score = float(f1_score_line.split()[3])  # Extract F1-score value\n",
    "print(\"F1 Score Not Purchased:\", f1_score)\n",
    "f1_score_line = lines[3]\n",
    "f1_score = float(f1_score_line.split()[3])  # Extract F1-score value\n",
    "print(\"F1 Score Purchased    :\", f1_score)"
   ]
  },
  {
   "cell_type": "code",
   "execution_count": 40,
   "id": "b1fcaf39",
   "metadata": {},
   "outputs": [
    {
     "name": "stdout",
     "output_type": "stream",
     "text": [
      "Classes  : ['0', '1']\n",
      "Precision: [0.76, 0.88]\n",
      "Recall   : [0.96, 0.47]\n",
      "F1 Score : [0.85, 0.61]\n",
      "Support  : [85, 49]\n"
     ]
    }
   ],
   "source": [
    "# Parse the classification report and extract individual values\n",
    "lines = clf_report.split('\\n')\n",
    "classes = []\n",
    "precision = []\n",
    "recall = []\n",
    "f1_score = []\n",
    "support = []\n",
    "\n",
    "for line in lines[2:-5]:  # Skip the first two lines and the last five lines\n",
    "    values = line.split()\n",
    "    classes.append(values[0])\n",
    "    precision.append(float(values[1]))\n",
    "    recall.append(float(values[2]))\n",
    "    f1_score.append(float(values[3]))\n",
    "    support.append(int(values[4]))\n",
    "\n",
    "# Print individual values\n",
    "print(\"Classes  :\", classes)\n",
    "print(\"Precision:\", precision)\n",
    "print(\"Recall   :\", recall)\n",
    "print(\"F1 Score :\", f1_score)\n",
    "print(\"Support  :\", support)"
   ]
  },
  {
   "cell_type": "code",
   "execution_count": 41,
   "id": "e1e52572",
   "metadata": {},
   "outputs": [
    {
     "name": "stdout",
     "output_type": "stream",
     "text": [
      "Macro Average:\n",
      "Precision    : 0.82\n",
      "Recall       : 0.72\n",
      "F1 Score     : 0.73\n",
      "Support      : 134\n",
      "\n",
      "Weighted Average:\n",
      "Precision    : 0.81\n",
      "Recall       : 0.78\n",
      "F1 Score     : 0.76\n",
      "Support      : 134\n"
     ]
    }
   ],
   "source": [
    "# Parse the classification report and extract macro and weighted average values\n",
    "lines = clf_report.split('\\n')\n",
    "\n",
    "# Find the row indices containing 'macro avg' and 'weighted avg'\n",
    "macro_avg_index = [i for i, line in enumerate(lines) if 'macro avg' in line][0]\n",
    "weighted_avg_index = [i for i, line in enumerate(lines) if 'weighted avg' in line][0]\n",
    "\n",
    "# Extract macro average values\n",
    "macro_avg_line = lines[macro_avg_index].split()\n",
    "macro_precision = float(macro_avg_line[2])  # Precision is at index 2\n",
    "macro_recall = float(macro_avg_line[3])     # Recall is at index 3\n",
    "macro_f1_score = float(macro_avg_line[4])   # F1-score is at index 4\n",
    "macro_support = int(macro_avg_line[5])      # Support is at index 5\n",
    "\n",
    "# Extract weighted average values\n",
    "weighted_avg_line = lines[weighted_avg_index].split()\n",
    "weighted_precision = float(weighted_avg_line[2])   # Precision is at index 2\n",
    "weighted_recall = float(weighted_avg_line[3])      # Recall is at index 3\n",
    "weighted_f1_score = float(weighted_avg_line[4])    # F1-score is at index 4\n",
    "weighted_support = int(weighted_avg_line[5])       # Support is at index 5\n",
    "\n",
    "# Print macro and weighted average values separately\n",
    "print(\"Macro Average:\")\n",
    "print(\"Precision    :\", macro_precision)\n",
    "print(\"Recall       :\", macro_recall)\n",
    "print(\"F1 Score     :\", macro_f1_score)\n",
    "print(\"Support      :\", macro_support)\n",
    "\n",
    "print(\"\\nWeighted Average:\")\n",
    "print(\"Precision    :\", weighted_precision)\n",
    "print(\"Recall       :\", weighted_recall)\n",
    "print(\"F1 Score     :\", weighted_f1_score)\n",
    "print(\"Support      :\", weighted_support)"
   ]
  },
  {
   "cell_type": "code",
   "execution_count": null,
   "id": "7897dc7d",
   "metadata": {},
   "outputs": [],
   "source": []
  },
  {
   "cell_type": "code",
   "execution_count": null,
   "id": "dcfe969d",
   "metadata": {},
   "outputs": [],
   "source": []
  }
 ],
 "metadata": {
  "kernelspec": {
   "display_name": "Python 3 (ipykernel)",
   "language": "python",
   "name": "python3"
  },
  "language_info": {
   "codemirror_mode": {
    "name": "ipython",
    "version": 3
   },
   "file_extension": ".py",
   "mimetype": "text/x-python",
   "name": "python",
   "nbconvert_exporter": "python",
   "pygments_lexer": "ipython3",
   "version": "3.11.5"
  }
 },
 "nbformat": 4,
 "nbformat_minor": 5
}
