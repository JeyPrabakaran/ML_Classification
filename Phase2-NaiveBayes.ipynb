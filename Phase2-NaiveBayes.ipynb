{
 "cells": [
  {
   "cell_type": "code",
   "execution_count": 1,
   "id": "b3ffe059-8b75-4cb8-bb1b-c837e6347b72",
   "metadata": {},
   "outputs": [
    {
     "name": "stdout",
     "output_type": "stream",
     "text": [
      "[1]\n"
     ]
    },
    {
     "name": "stderr",
     "output_type": "stream",
     "text": [
      "C:\\Users\\Prabakaran J\\.conda\\envs\\VEAI\\Lib\\site-packages\\sklearn\\base.py:493: UserWarning: X does not have valid feature names, but CategoricalNB was fitted with feature names\n",
      "  warnings.warn(\n"
     ]
    }
   ],
   "source": [
    "import pickle\n",
    "import builtins\n",
    "\n",
    "# Load the saved model from the file\n",
    "with builtins.open('finalized_model_MLClassification_CategoricalNB.sav', 'rb') as file:\n",
    "    # Load the model using pickle\n",
    "    model = pickle.load(file)\n",
    "\n",
    "    # Now you can use the loaded model to make predictions\n",
    "    result = model.predict([[50, 20000, False]])\n",
    "\n",
    "    print(result)"
   ]
  },
  {
   "cell_type": "code",
   "execution_count": null,
   "id": "50ab34a7-827a-4e07-b9a2-45f9b0fdd9b2",
   "metadata": {},
   "outputs": [],
   "source": [
    "'''import pickle\n",
    "import builtins\n",
    "\n",
    "# Load the saved model from the file\n",
    "with builtins.open('finalized_model_MLClassification_CategoricalNB.sav', 'rb') as file:\n",
    "    # Load the model using pickle\n",
    "    model = pickle.load(file)\n",
    "\n",
    "    # Now you can use the loaded model to make predictions\n",
    "    result = model.predict([[50, 20000, False]])\n",
    "\n",
    "    print(result)\n",
    "---------------------------------------------------------------------------\n",
    "FileNotFoundError                         Traceback (most recent call last)\n",
    "Cell In[15], line 5\n",
    "      2 import builtins\n",
    "      4 # Load the saved model from the file\n",
    "----> 5 with builtins.open('finalized_model_MLClassification_CategoricalNB.sav', 'rb') as file:\n",
    "      6     # Load the model using pickle\n",
    "      7     model = pickle.load(file)\n",
    "      9     # Now you can use the loaded model to make predictions\n",
    "\n",
    "FileNotFoundError: [Errno 2] No such file or directory: 'finalized_model_MLClassification_CategoricalNB.sav''''"
   ]
  }
 ],
 "metadata": {
  "kernelspec": {
   "display_name": "Python 3 (ipykernel)",
   "language": "python",
   "name": "python3"
  },
  "language_info": {
   "codemirror_mode": {
    "name": "ipython",
    "version": 3
   },
   "file_extension": ".py",
   "mimetype": "text/x-python",
   "name": "python",
   "nbconvert_exporter": "python",
   "pygments_lexer": "ipython3",
   "version": "3.11.7"
  }
 },
 "nbformat": 4,
 "nbformat_minor": 5
}
