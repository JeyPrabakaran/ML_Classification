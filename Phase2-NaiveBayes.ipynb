{
 "cells": [
  {
   "cell_type": "code",
   "execution_count": 1,
   "id": "b3ffe059-8b75-4cb8-bb1b-c837e6347b72",
   "metadata": {},
   "outputs": [
    {
     "name": "stdout",
     "output_type": "stream",
     "text": [
      "[1]\n"
     ]
    }
   ],
   "source": [
    "import pickle\n",
    "import builtins\n",
    "import warnings\n",
    "\n",
    "# Load the saved model from the file\n",
    "warnings.filterwarnings(\"ignore\")\n",
    "with builtins.open('finalized_model_MLClassification_CategoricalNB.sav', 'rb') as file:\n",
    "    # Load the model using pickle\n",
    "    model = pickle.load(file)\n",
    "\n",
    "    # Now you can use the loaded model to make predictions\n",
    "    result = model.predict([[50, 20000, False]])\n",
    "\n",
    "    print(result)"
   ]
  },
  {
   "cell_type": "code",
   "execution_count": null,
   "id": "50ab34a7-827a-4e07-b9a2-45f9b0fdd9b2",
   "metadata": {},
   "outputs": [],
   "source": []
  }
 ],
 "metadata": {
  "kernelspec": {
   "display_name": "Python 3 (ipykernel)",
   "language": "python",
   "name": "python3"
  },
  "language_info": {
   "codemirror_mode": {
    "name": "ipython",
    "version": 3
   },
   "file_extension": ".py",
   "mimetype": "text/x-python",
   "name": "python",
   "nbconvert_exporter": "python",
   "pygments_lexer": "ipython3",
   "version": "3.11.7"
  }
 },
 "nbformat": 4,
 "nbformat_minor": 5
}
